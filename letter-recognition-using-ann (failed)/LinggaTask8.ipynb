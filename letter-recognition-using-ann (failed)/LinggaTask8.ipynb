{
  "nbformat": 4,
  "nbformat_minor": 0,
  "metadata": {
    "colab": {
      "name": "LinggaTask8.ipynb",
      "provenance": []
    },
    "kernelspec": {
      "name": "python3",
      "display_name": "Python 3"
    },
    "language_info": {
      "name": "python"
    }
  },
  "cells": [
    {
      "cell_type": "code",
      "metadata": {
        "id": "Ymvg6Le69gWL"
      },
      "source": [
        "import tensorflow as tf\n",
        "from tensorflow import keras\n",
        "\n",
        "import numpy as np\n",
        "import matplotlib.pyplot as plt\n",
        "from PIL import Image"
      ],
      "execution_count": null,
      "outputs": []
    },
    {
      "cell_type": "code",
      "metadata": {
        "id": "a1W-nThI9llC",
        "colab": {
          "base_uri": "https://localhost:8080/"
        },
        "outputId": "f30345f3-af15-412d-bbc6-d09e828b3c29"
      },
      "source": [
        "!pip install extra-keras-datasets\n",
        "\n",
        "from extra_keras_datasets import emnist\n",
        "(train_images, train_labels), (test_images, test_labels) = emnist.load_data(type='balanced')"
      ],
      "execution_count": null,
      "outputs": [
        {
          "output_type": "stream",
          "text": [
            "Requirement already satisfied: extra-keras-datasets in /usr/local/lib/python3.7/dist-packages (1.2.0)\n",
            "Requirement already satisfied: numpy in /usr/local/lib/python3.7/dist-packages (from extra-keras-datasets) (1.19.5)\n",
            "Requirement already satisfied: pandas in /usr/local/lib/python3.7/dist-packages (from extra-keras-datasets) (1.1.5)\n",
            "Requirement already satisfied: scipy in /usr/local/lib/python3.7/dist-packages (from extra-keras-datasets) (1.4.1)\n",
            "Requirement already satisfied: scikit-learn in /usr/local/lib/python3.7/dist-packages (from extra-keras-datasets) (0.22.2.post1)\n",
            "Requirement already satisfied: python-dateutil>=2.7.3 in /usr/local/lib/python3.7/dist-packages (from pandas->extra-keras-datasets) (2.8.1)\n",
            "Requirement already satisfied: pytz>=2017.2 in /usr/local/lib/python3.7/dist-packages (from pandas->extra-keras-datasets) (2018.9)\n",
            "Requirement already satisfied: joblib>=0.11 in /usr/local/lib/python3.7/dist-packages (from scikit-learn->extra-keras-datasets) (1.0.1)\n",
            "Requirement already satisfied: six>=1.5 in /usr/local/lib/python3.7/dist-packages (from python-dateutil>=2.7.3->pandas->extra-keras-datasets) (1.15.0)\n"
          ],
          "name": "stdout"
        },
        {
          "output_type": "stream",
          "text": [
            "INFO:root:Loading dataset = emnist\n",
            "WARNING:root:Please cite the following paper when using or referencing this Extra Keras Dataset:\n",
            "WARNING:root:Cohen, G., Afshar, S., Tapson, J., & van Schaik, A. (2017). EMNIST: an extension of MNIST to handwritten letters. Retrieved from http://arxiv.org/abs/1702.05373\n"
          ],
          "name": "stderr"
        }
      ]
    },
    {
      "cell_type": "code",
      "metadata": {
        "id": "Xo13DC-G9m9q"
      },
      "source": [
        "idx = (train_labels == 10).reshape(train_images.shape[0])\n",
        "a = train_images[idx]\n",
        "idx = (train_labels == 36).reshape(train_images.shape[0])\n",
        "b = train_images[idx]\n",
        "f_train_images = np.concatenate((a, b), axis=0)"
      ],
      "execution_count": null,
      "outputs": []
    },
    {
      "cell_type": "code",
      "metadata": {
        "id": "VoqLIWWzG9Bq"
      },
      "source": [
        "idx = (test_labels == 10).reshape(test_images.shape[0])\n",
        "a = test_images[idx]\n",
        "idx = (test_labels == 36).reshape(test_images.shape[0])\n",
        "b = test_images[idx]\n",
        "f_test_images = np.concatenate((a, b), axis=0)"
      ],
      "execution_count": null,
      "outputs": []
    },
    {
      "cell_type": "code",
      "metadata": {
        "id": "tggwUx4LFO8z"
      },
      "source": [
        "idx = (train_labels == 10).reshape(train_labels.shape[0])\n",
        "a = train_labels[idx]\n",
        "idx = (train_labels == 36).reshape(train_labels.shape[0])\n",
        "b = train_labels[idx]\n",
        "f_train_labels = np.concatenate((a, b), axis=0)"
      ],
      "execution_count": null,
      "outputs": []
    },
    {
      "cell_type": "code",
      "metadata": {
        "id": "B3zS_A45IHeF"
      },
      "source": [
        "idx = (test_labels == 10).reshape(test_labels.shape[0])\n",
        "a = test_labels[idx]\n",
        "idx = (test_labels == 36).reshape(test_labels.shape[0])\n",
        "b = test_labels[idx]\n",
        "f_test_labels = np.concatenate((a, b), axis=0)"
      ],
      "execution_count": null,
      "outputs": []
    },
    {
      "cell_type": "code",
      "metadata": {
        "id": "hPZHN6mJF9Jl"
      },
      "source": [
        "f_train_images = f_train_images / 255.0\n",
        "f_test_images = f_test_images / 255.0\n"
      ],
      "execution_count": null,
      "outputs": []
    },
    {
      "cell_type": "code",
      "metadata": {
        "id": "axpjf5ASP7So"
      },
      "source": [
        "f_test_labels[f_test_labels == 10] = 0\n",
        "f_test_labels[f_test_labels == 36] = 1\n",
        "\n",
        "f_train_labels[f_train_labels == 10] = 0\n",
        "f_train_labels[f_train_labels == 36] = 1"
      ],
      "execution_count": null,
      "outputs": []
    },
    {
      "cell_type": "code",
      "metadata": {
        "colab": {
          "base_uri": "https://localhost:8080/"
        },
        "id": "WUCuA3ghJoXa",
        "outputId": "7c4147d8-4f07-4641-ab3c-ec1c9f51132e"
      },
      "source": [
        "print('f_train_images shape: {}'.format(f_train_images.shape))\n",
        "print('f_test_images shape: {}'.format(f_test_images.shape))\n",
        "print('f_train_labels shape: {}'.format(f_train_labels.shape))\n",
        "print('f_test_labels shape: {}'.format(f_test_labels.shape))"
      ],
      "execution_count": null,
      "outputs": [
        {
          "output_type": "stream",
          "text": [
            "f_train_images shape: (4800, 28, 28)\n",
            "f_test_images shape: (800, 28, 28)\n",
            "f_train_labels shape: (4800,)\n",
            "f_test_labels shape: (800,)\n"
          ],
          "name": "stdout"
        }
      ]
    },
    {
      "cell_type": "code",
      "metadata": {
        "id": "Hpm1koeWP-1T"
      },
      "source": [
        "from random import shuffle\n",
        "\n",
        "ind_list = [i for i in range(4800)]\n",
        "shuffle(ind_list)\n",
        "f_train_images = f_train_images[ind_list, :,:]\n",
        "f_train_labels = f_train_labels[ind_list,]"
      ],
      "execution_count": null,
      "outputs": []
    },
    {
      "cell_type": "code",
      "metadata": {
        "id": "TW1HaAnTgIaa"
      },
      "source": [
        ""
      ],
      "execution_count": null,
      "outputs": []
    },
    {
      "cell_type": "code",
      "metadata": {
        "id": "d4sV7ntYKg5z"
      },
      "source": [
        "model = keras.Sequential([\n",
        "    keras.layers.Flatten(input_shape=(28, 28)),\n",
        "    keras.layers.Dense(5, activation='relu'),\n",
        "    keras.layers.Dense(1, activation='sigmoid')\n",
        "])"
      ],
      "execution_count": null,
      "outputs": []
    },
    {
      "cell_type": "code",
      "metadata": {
        "id": "d9lXA8zkKlsZ"
      },
      "source": [
        "model.compile(optimizer='adam',\n",
        "              loss='binary_crossentropy',\n",
        "              metrics=['accuracy'])"
      ],
      "execution_count": null,
      "outputs": []
    },
    {
      "cell_type": "code",
      "metadata": {
        "colab": {
          "base_uri": "https://localhost:8080/"
        },
        "id": "k7wDcykoKtnc",
        "outputId": "b7696a7d-2337-4ff7-e86f-7a6e70df93bc"
      },
      "source": [
        "model.fit(f_train_images, f_train_labels, epochs=5)"
      ],
      "execution_count": null,
      "outputs": [
        {
          "output_type": "stream",
          "text": [
            "Epoch 1/5\n",
            "150/150 [==============================] - 0s 1ms/step - loss: 90.4549 - accuracy: 0.5000\n",
            "Epoch 2/5\n",
            "150/150 [==============================] - 0s 1ms/step - loss: 14.7846 - accuracy: 0.7094\n",
            "Epoch 3/5\n",
            "150/150 [==============================] - 0s 1ms/step - loss: 0.2296 - accuracy: 0.9450\n",
            "Epoch 4/5\n",
            "150/150 [==============================] - 0s 1ms/step - loss: 0.2004 - accuracy: 0.9504\n",
            "Epoch 5/5\n",
            "150/150 [==============================] - 0s 1ms/step - loss: 0.1845 - accuracy: 0.9494\n"
          ],
          "name": "stdout"
        },
        {
          "output_type": "execute_result",
          "data": {
            "text/plain": [
              "<tensorflow.python.keras.callbacks.History at 0x7f4e62384b90>"
            ]
          },
          "metadata": {
            "tags": []
          },
          "execution_count": 168
        }
      ]
    },
    {
      "cell_type": "code",
      "metadata": {
        "colab": {
          "base_uri": "https://localhost:8080/"
        },
        "id": "4D3Xa_wkM_5v",
        "outputId": "c034fcb2-0915-43b1-b551-8385e3a89f61"
      },
      "source": [
        "test_loss, test_acc = model.evaluate(f_test_images,  f_test_labels, verbose=1) \n",
        "print('Test accuracy:', test_acc)"
      ],
      "execution_count": null,
      "outputs": [
        {
          "output_type": "stream",
          "text": [
            "25/25 [==============================] - 0s 914us/step - loss: 0.0000e+00 - accuracy: 0.5000\n",
            "Test accuracy: 0.5\n"
          ],
          "name": "stdout"
        }
      ]
    },
    {
      "cell_type": "code",
      "metadata": {
        "colab": {
          "base_uri": "https://localhost:8080/",
          "height": 17
        },
        "id": "OuppWbN2qxbx",
        "outputId": "fac6ccea-2b3c-4722-e652-76fc326d6d93"
      },
      "source": [
        "model.save('model2.h5')\n",
        "from google.colab import files\n",
        "files.download(\"model2.h5\")"
      ],
      "execution_count": null,
      "outputs": [
        {
          "output_type": "display_data",
          "data": {
            "application/javascript": [
              "\n",
              "    async function download(id, filename, size) {\n",
              "      if (!google.colab.kernel.accessAllowed) {\n",
              "        return;\n",
              "      }\n",
              "      const div = document.createElement('div');\n",
              "      const label = document.createElement('label');\n",
              "      label.textContent = `Downloading \"${filename}\": `;\n",
              "      div.appendChild(label);\n",
              "      const progress = document.createElement('progress');\n",
              "      progress.max = size;\n",
              "      div.appendChild(progress);\n",
              "      document.body.appendChild(div);\n",
              "\n",
              "      const buffers = [];\n",
              "      let downloaded = 0;\n",
              "\n",
              "      const channel = await google.colab.kernel.comms.open(id);\n",
              "      // Send a message to notify the kernel that we're ready.\n",
              "      channel.send({})\n",
              "\n",
              "      for await (const message of channel.messages) {\n",
              "        // Send a message to notify the kernel that we're ready.\n",
              "        channel.send({})\n",
              "        if (message.buffers) {\n",
              "          for (const buffer of message.buffers) {\n",
              "            buffers.push(buffer);\n",
              "            downloaded += buffer.byteLength;\n",
              "            progress.value = downloaded;\n",
              "          }\n",
              "        }\n",
              "      }\n",
              "      const blob = new Blob(buffers, {type: 'application/binary'});\n",
              "      const a = document.createElement('a');\n",
              "      a.href = window.URL.createObjectURL(blob);\n",
              "      a.download = filename;\n",
              "      div.appendChild(a);\n",
              "      a.click();\n",
              "      div.remove();\n",
              "    }\n",
              "  "
            ],
            "text/plain": [
              "<IPython.core.display.Javascript object>"
            ]
          },
          "metadata": {
            "tags": []
          }
        },
        {
          "output_type": "display_data",
          "data": {
            "application/javascript": [
              "download(\"download_99f289d7-0d4b-4f63-8b1f-26fdb5b341f0\", \"model2.h5\", 73416)"
            ],
            "text/plain": [
              "<IPython.core.display.Javascript object>"
            ]
          },
          "metadata": {
            "tags": []
          }
        }
      ]
    },
    {
      "cell_type": "code",
      "metadata": {
        "colab": {
          "base_uri": "https://localhost:8080/",
          "height": 330
        },
        "id": "W0pDyxK8NP67",
        "outputId": "64a02b70-5d05-40f3-d92f-a7a85227139b"
      },
      "source": [
        "COLOR = 'black'\n",
        "plt.rcParams['text.color'] = COLOR\n",
        "plt.rcParams['axes.labelcolor'] = COLOR\n",
        "\n",
        "def predict(model, image, correct_label):\n",
        "  class_names = ['A', 'a']\n",
        "  prediction = model.predict(np.array([image]))\n",
        "  print(prediction)\n",
        "  p = np.around(prediction)\n",
        "  predicted_class = class_names[int(np.max(p))]\n",
        "  show_image(image, class_names[correct_label], predicted_class)\n",
        "\n",
        "\n",
        "def show_image(img, label, guess):\n",
        "  plt.figure()\n",
        "  plt.imshow(img, cmap=plt.cm.binary)\n",
        "  plt.title(\"Excpected: \" + label)\n",
        "  plt.xlabel(\"Guess: \" + guess)\n",
        "  plt.colorbar()\n",
        "  plt.grid(False)\n",
        "  plt.show()\n",
        "\n",
        "\n",
        "def get_number():\n",
        "  while True:\n",
        "    num = input(\"Pick a number: \")\n",
        "    if num.isdigit():\n",
        "      num = int(num)\n",
        "      if 0 <= num <= 800:\n",
        "        return int(num)\n",
        "    else:\n",
        "      print(\"Try again...\")\n",
        "\n",
        "num = get_number()\n",
        "image = f_test_images[num]\n",
        "label = f_test_labels[num]\n",
        "predict(model, image, label)"
      ],
      "execution_count": null,
      "outputs": [
        {
          "output_type": "stream",
          "text": [
            "Pick a number: 1\n",
            "[[0.01899511]]\n"
          ],
          "name": "stdout"
        },
        {
          "output_type": "display_data",
          "data": {
            "image/png": "[encoded data removed]",
            "text/plain": [
              "<Figure size 432x288 with 2 Axes>"
            ]
          },
          "metadata": {
            "tags": [],
            "needs_background": "light"
          }
        }
      ]
    },
    {
      "cell_type": "code",
      "metadata": {
        "colab": {
          "base_uri": "https://localhost:8080/"
        },
        "id": "ozSAg1DVN2Tp",
        "outputId": "7b80fe40-9967-4418-fcf0-8ac20d490105"
      },
      "source": [
        "from google.colab import drive\n",
        "drive.mount('/content/gdrive')"
      ],
      "execution_count": null,
      "outputs": [
        {
          "output_type": "stream",
          "text": [
            "Drive already mounted at /content/gdrive; to attempt to forcibly remount, call drive.mount(\"/content/gdrive\", force_remount=True).\n"
          ],
          "name": "stdout"
        }
      ]
    },
    {
      "cell_type": "code",
      "metadata": {
        "colab": {
          "base_uri": "https://localhost:8080/"
        },
        "id": "Nfc2f0JONy5S",
        "outputId": "665798dc-0388-4d48-80ce-fb942fc96f90"
      },
      "source": [
        "path = \"/content/gdrive/My Drive/letter_a1.PNG\"\n",
        "img = Image.open(path).convert('L').resize((28, 28), Image.ANTIALIAS)\n",
        "img = np.array(img)\n",
        "\n",
        "img = img / 225.0\n",
        "p = model.predict(img[None,:,:])\n",
        "print(p)"
      ],
      "execution_count": null,
      "outputs": [
        {
          "output_type": "stream",
          "text": [
            "[[0.]]\n"
          ],
          "name": "stdout"
        }
      ]
    },
    {
      "cell_type": "code",
      "metadata": {
        "colab": {
          "base_uri": "https://localhost:8080/",
          "height": 282
        },
        "id": "lYrXhgQB-ZHq",
        "outputId": "3fab8f4e-e184-4dfd-96ee-5823848fa43c"
      },
      "source": [
        "x = 1\n",
        "plt.figure()\n",
        "plt.imshow(img)\n",
        "print(f_train_labels[x])\n",
        "plt.colorbar()\n",
        "plt.grid(False)\n",
        "\n",
        "plt.show()"
      ],
      "execution_count": null,
      "outputs": [
        {
          "output_type": "stream",
          "text": [
            "0\n"
          ],
          "name": "stdout"
        },
        {
          "output_type": "display_data",
          "data": {
            "image/png": "[encoded data removed]",
            "text/plain": [
              "<Figure size 432x288 with 2 Axes>"
            ]
          },
          "metadata": {
            "tags": [],
            "needs_background": "light"
          }
        }
      ]
    },
    {
      "cell_type": "code",
      "metadata": {
        "id": "T4hCi-ci0L_X"
      },
      "source": [
        "from keras_preprocessing import image"
      ],
      "execution_count": null,
      "outputs": []
    },
    {
      "cell_type": "code",
      "metadata": {
        "colab": {
          "base_uri": "https://localhost:8080/"
        },
        "id": "tS18uWtw0Ged",
        "outputId": "915c2e86-48f3-41bf-af02-298b50c077e3"
      },
      "source": [
        "images = image.load_img(path, target_size=(28, 28))    \n",
        "x = image.img_to_array(images)\n",
        "x = tf.image.rgb_to_grayscale(x)\n",
        "x = x/255.0\n",
        "x = np.expand_dims(x, axis=0)\n",
        "\n",
        "\n",
        "model.predict(x)\n"
      ],
      "execution_count": null,
      "outputs": [
        {
          "output_type": "execute_result",
          "data": {
            "text/plain": [
              "array([[2.062014e-36]], dtype=float32)"
            ]
          },
          "metadata": {
            "tags": []
          },
          "execution_count": 187
        }
      ]
    }
  ]
}